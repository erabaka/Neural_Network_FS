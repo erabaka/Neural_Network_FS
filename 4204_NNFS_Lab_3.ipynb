{
  "nbformat": 4,
  "nbformat_minor": 0,
  "metadata": {
    "colab": {
      "provenance": []
    },
    "kernelspec": {
      "name": "python3",
      "display_name": "Python 3"
    },
    "language_info": {
      "name": "python"
    }
  },
  "cells": [
    {
      "cell_type": "markdown",
      "source": [
        "#Multilayer Perceptron Algorithm\n",
        "\n",
        "1703176\n",
        "\n",
        "27-02-2023"
      ],
      "metadata": {
        "id": "IEXNyD1KsEau"
      }
    },
    {
      "cell_type": "code",
      "execution_count": null,
      "metadata": {
        "id": "1iIEyWw9r_45"
      },
      "outputs": [],
      "source": [
        "import pandas as pd\n",
        "import numpy as np\n",
        "import seaborn as sns\n",
        "import matplotlib.pyplot as plt"
      ]
    },
    {
      "cell_type": "code",
      "source": [
        "x1 = 2\n",
        "x2 = 0.2\n",
        "\n",
        "w1 = 0.1\n",
        "w2 =  0.4\n",
        "w3 =  0.2\n",
        "w4 = 0.3\n",
        "w5 = 0.2\n",
        "w6 =  0.1\n",
        "w7 = 0.4\n",
        "w8 = 0.3\n",
        "\n",
        "o1 = 1\n",
        "o2 = 0\n",
        "\n",
        "# Input to hidden\n",
        "# x1--w1--h1\n",
        "# x2--w2--h1\n",
        "# x1--w3--h2\n",
        "# x2---w4--h2\n",
        "\n",
        "# hidden to output\n",
        "# h1--w5--o1\n",
        "# h2--w6--o1\n",
        "# h1--w7--o2\n",
        "# h2--w8--o2\n"
      ],
      "metadata": {
        "id": "oQYpQzhZtQXn"
      },
      "execution_count": null,
      "outputs": []
    },
    {
      "cell_type": "markdown",
      "source": [
        "#Forward Pass\n",
        "\n",
        "## Input to Hidden layer\n",
        "\n"
      ],
      "metadata": {
        "id": "Tid--FNavAcw"
      }
    },
    {
      "cell_type": "code",
      "source": [
        "h1_in = w1*x1+w2*x2\n",
        "h1_o = 1/(1+np.exp(-h1_in))\n",
        "h2_in = w3*x1+w4*x2\n",
        "h2_o = 1/(1+np.exp(-h2_in))\n",
        "print(h1_in)\n",
        "print(h1_o)\n",
        "print(h2_in)\n",
        "print(h2_o)"
      ],
      "metadata": {
        "colab": {
          "base_uri": "https://localhost:8080/"
        },
        "id": "yl-nd47Vu89p",
        "outputId": "83c7f375-f684-4457-8b09-c5da4bb0ac85"
      },
      "execution_count": null,
      "outputs": [
        {
          "output_type": "stream",
          "name": "stdout",
          "text": [
            "0.28\n",
            "0.569546223939229\n",
            "0.46\n",
            "0.6130141761393355\n"
          ]
        }
      ]
    },
    {
      "cell_type": "markdown",
      "source": [
        "## Hidden Layer to Output Layer\n"
      ],
      "metadata": {
        "id": "whAJuvzYwqNb"
      }
    },
    {
      "cell_type": "code",
      "source": [
        "o1_in = w5*h1_o+w6*h2_o\n",
        "o1_o = 1/(1+np.exp(-o1_in))\n",
        "o2_in = w7*h1_o+w8*h2_o\n",
        "o2_o = 1/(1+np.exp(-o2_in))\n",
        "\n",
        "print(o1_o)\n",
        "print(o2_o)"
      ],
      "metadata": {
        "colab": {
          "base_uri": "https://localhost:8080/"
        },
        "id": "cHOo1TVbwo-m",
        "outputId": "cf71aab0-1576-43fb-f068-15e6d01c3ec5"
      },
      "execution_count": null,
      "outputs": [
        {
          "output_type": "stream",
          "name": "stdout",
          "text": [
            "0.5436909511850764\n",
            "0.6015008881356861\n"
          ]
        }
      ]
    },
    {
      "cell_type": "markdown",
      "source": [
        "##Error calculation"
      ],
      "metadata": {
        "id": "qzdAKCykxysK"
      }
    },
    {
      "cell_type": "code",
      "source": [
        "E_o1 = 0.5*(o1-o1_o)**2\n",
        "E_o2 = 0.5*(o2-o2_o)**2\n",
        "\n",
        "E_tot = E_o1 + E_o2\n",
        "print(E_tot)"
      ],
      "metadata": {
        "colab": {
          "base_uri": "https://localhost:8080/"
        },
        "id": "4atu0_gVxx2z",
        "outputId": "6990da40-28ff-4a4e-8e07-73d36ac990d8"
      },
      "execution_count": null,
      "outputs": [
        {
          "output_type": "stream",
          "name": "stdout",
          "text": [
            "0.2850106332291998\n"
          ]
        }
      ]
    },
    {
      "cell_type": "markdown",
      "source": [
        "# Backward Pass\n",
        "\n",
        "## Output Layer to Hidden Layer\n"
      ],
      "metadata": {
        "id": "cF4P_ZSeyb_3"
      }
    },
    {
      "cell_type": "code",
      "source": [
        "# E_tot/w5(d5) = E_tot/o1_o(a) * o1_o/o1_net(b) * o1_net/w5(c5) ---------partial differentiation\n",
        "\n",
        "a1 = o1_o - o1\n",
        "b1= o1_o * (1 - o1_o)\n",
        "c1 = h1_o\n",
        "d5 = -(a1*b1*c1)\n",
        "# print(d5)\n",
        "\n",
        "mom = 0.5\n",
        "eta = 0.2\n",
        "deld5 =  mom*d5 + eta*d5\n",
        "w5_ = w5 + deld5\n",
        "\n",
        "c2 = h2_o\n",
        "d6 = -(a1*b1*c2)\n",
        "deld6 = mom*d6 + eta*d6\n",
        "w6_ = w6 +deld6\n",
        "\n",
        "a2 = o2_o - o2\n",
        "b2 = o2_o * (1 - o2_o)\n",
        "d7 = -(a2*b2*c1)\n",
        "deld7 = mom*d7 + eta*d7\n",
        "w7_ = w7 +deld7\n",
        "\n",
        "d8 = -(a2*b2*c2)\n",
        "deld8 = mom*d8 + eta*d8\n",
        "w8_ = w8 +deld8\n",
        "\n",
        "\n",
        "\n"
      ],
      "metadata": {
        "id": "8r4zBiwsyy3z"
      },
      "execution_count": null,
      "outputs": []
    },
    {
      "cell_type": "markdown",
      "source": [
        "## Hidden layer to input layer"
      ],
      "metadata": {
        "id": "CYop0UO-5Cv5"
      }
    },
    {
      "cell_type": "code",
      "source": [
        "v1 = h1_o * (1- h1_o)\n",
        "\n",
        "d1 = -(((a1*b1*w5) + (a2*b2*w7)) * v1 * x1)\n",
        "deld1 = mom*d1 + eta*d1\n",
        "w1_ = w1 + deld1\n",
        "\n",
        "d2 = -(((a1*b1*w5) + (a2*b2*w7)) * v1 * x2)\n",
        "deld2 = mom*d2 + eta*d2\n",
        "w2_ = w2 + deld2\n",
        "\n",
        "v2 = h2_o * (1-h2_o)\n",
        "\n",
        "d3 = -(((a1*b1*w6) + (a2*b2*w8)) * v2 * x1)\n",
        "deld3 = mom*d3 + eta*d3\n",
        "w3_ = w3 + deld3\n",
        "\n",
        "d4 = -(((a1*b1*w6) + (a2*b2*w8)) * v2 * x2)\n",
        "deld4 = mom*d4 + eta*d4\n",
        "w4_ = w4 + deld4\n",
        "\n"
      ],
      "metadata": {
        "id": "CJuO2pWM5CIE"
      },
      "execution_count": null,
      "outputs": []
    },
    {
      "cell_type": "markdown",
      "source": [
        "## Forward pass 2"
      ],
      "metadata": {
        "id": "gc-a13Qc8__Q"
      }
    },
    {
      "cell_type": "code",
      "source": [
        "h1__in = w1_*x1 + w2_*x2\n",
        "h1__o = 1/(1+np.exp(-h1__in))\n",
        "\n",
        "h2__in = w3_*x1 + w4_*x2\n",
        "h2__o = 1/(1+np.exp(-h2__in))\n",
        "\n",
        "\n",
        "o1__in = w5_*h1__o + w6_* h2__o\n",
        "o1__o = 1/(1+np.exp(-o1__in))\n",
        "o2__in = w7_*h1__o + w8_*h2__o\n",
        "o2__o = 1/(1+np.exp(-o2__in))\n",
        "\n",
        "print(o1__o)\n",
        "print(o2__o)"
      ],
      "metadata": {
        "colab": {
          "base_uri": "https://localhost:8080/"
        },
        "id": "fFe03hfe8-kl",
        "outputId": "53906654-dc6c-421e-9a9f-03c66dbfd452"
      },
      "execution_count": null,
      "outputs": [
        {
          "output_type": "stream",
          "name": "stdout",
          "text": [
            "0.556871871728746\n",
            "0.5836565921295073\n"
          ]
        }
      ]
    },
    {
      "cell_type": "markdown",
      "source": [
        "## Main Implement with Matrix\n",
        "### Forward pass"
      ],
      "metadata": {
        "id": "1sC6h6jn-mBg"
      }
    },
    {
      "cell_type": "code",
      "source": [
        "x = [2, 0.2]\n",
        "o = [1, 0]\n",
        "w = [0.1, 0.4, 0.2, 0.3, 0.2, 0.1, 0.4, 0.3]\n",
        "wo = []\n",
        "we = []\n",
        "h_in = []\n",
        "h_out = []\n",
        "\n",
        "o_in = []\n",
        "o_out = []\n",
        "\n",
        "for i in range(0, 8, 1):\n",
        "    if(i%2!=0):\n",
        "        wo.append(w[i])\n",
        "    else:\n",
        "        we.append(w[i])\n",
        "\n",
        "# print(wo)\n",
        "# print(we)\n",
        "\n",
        "for i in range(0, 2, 1):\n",
        "    h_in.append(x[0]*we[i]+x[1]*wo[i])\n",
        "# print(h_in)\n",
        "\n",
        "\n",
        "for i in range(2):\n",
        "    h_out.append(1/(1+np.exp(-h_in[i])))\n",
        "\n",
        "# print(h_out)\n",
        "\n",
        "for i in range(2, 4, 1):\n",
        "    o_in.append(h_out[0]*we[i]+h_out[1]*wo[i])\n",
        "\n",
        "for i in range(2):\n",
        "    o_out.append(1/(1+np.exp(-o_in[i])))\n",
        "\n",
        "print(o_in)\n",
        "print(o_out)"
      ],
      "metadata": {
        "colab": {
          "base_uri": "https://localhost:8080/"
        },
        "id": "fuMmS-CI_BIE",
        "outputId": "396073c0-59a3-44f8-baa7-464390d23df5"
      },
      "execution_count": null,
      "outputs": [
        {
          "output_type": "stream",
          "name": "stdout",
          "text": [
            "[0.17521066240177935, 0.4117227424174923]\n",
            "[0.5436909511850764, 0.6015008881356861]\n"
          ]
        }
      ]
    },
    {
      "cell_type": "markdown",
      "source": [
        "### Error calculation\n"
      ],
      "metadata": {
        "id": "kaHuaS27G71y"
      }
    },
    {
      "cell_type": "code",
      "source": [
        "eo1 = 0.5*(o[0]-o_out[0])**2\n",
        "eo2 = 0.5*(o[1]-o_out[1])**2\n",
        "\n",
        "e = eo1+eo2\n",
        "print(e)"
      ],
      "metadata": {
        "colab": {
          "base_uri": "https://localhost:8080/"
        },
        "id": "y61PylpzGkb3",
        "outputId": "28989c9c-b050-49be-ae8d-fae1598e7215"
      },
      "execution_count": null,
      "outputs": [
        {
          "output_type": "stream",
          "name": "stdout",
          "text": [
            "0.2850106332291998\n"
          ]
        }
      ]
    },
    {
      "cell_type": "markdown",
      "source": [
        "## Backward Pass\n",
        "### Output to hidden"
      ],
      "metadata": {
        "id": "qkyqDuetHIEB"
      }
    },
    {
      "cell_type": "code",
      "source": [],
      "metadata": {
        "id": "x4nAYVz9Ho7r"
      },
      "execution_count": null,
      "outputs": []
    }
  ]
}