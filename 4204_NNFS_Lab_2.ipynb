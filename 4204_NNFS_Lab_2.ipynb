{
  "nbformat": 4,
  "nbformat_minor": 0,
  "metadata": {
    "colab": {
      "provenance": []
    },
    "kernelspec": {
      "name": "python3",
      "display_name": "Python 3"
    },
    "language_info": {
      "name": "python"
    }
  },
  "cells": [
    {
      "cell_type": "markdown",
      "source": [
        "# Single Layer Perceptron learning Algorithm\n",
        "1703176\n",
        "\n",
        "03-02-2023"
      ],
      "metadata": {
        "id": "t-yiXqpBobPr"
      }
    },
    {
      "cell_type": "code",
      "execution_count": null,
      "metadata": {
        "id": "_bWdjo_Hnw0e"
      },
      "outputs": [],
      "source": [
        "import pandas as pd\n",
        "import numpy as np\n",
        "import seaborn as sns\n",
        "import matplotlib.pyplot as plt"
      ]
    },
    {
      "cell_type": "code",
      "source": [
        "x = [34, 42, 176, 89, 70]\n",
        "w = [1.1, 1.5, 0.5, 0.2, 1.3]\n",
        "\n",
        "threshold = 300\n",
        "sum = 0\n",
        "for i in range(5):\n",
        "    sum = sum + x[i]*w[i]\n",
        "\n",
        "print(sum)\n",
        "if sum>threshold:\n",
        "    sum = 1\n",
        "    print(\"fire\")\n",
        "else:\n",
        "    sum = 0\n",
        "    print(\"don't fire\")"
      ],
      "metadata": {
        "colab": {
          "base_uri": "https://localhost:8080/"
        },
        "id": "0i8Z3JuWow9v",
        "outputId": "71a340fc-990e-4eca-c171-47b997b1c891"
      },
      "execution_count": null,
      "outputs": [
        {
          "output_type": "stream",
          "name": "stdout",
          "text": [
            "297.20000000000005\n",
            "don't fire\n"
          ]
        }
      ]
    },
    {
      "cell_type": "code",
      "source": [
        "# step 4 --- (i)\n",
        "x = [34, 42, 176, 89, 70]\n",
        "w = [1.1, 1.5, 0.5, 0.2, 1.3]\n",
        "\n",
        "threshold = 300\n",
        "sum = 0\n",
        "for i in range(5):\n",
        "    sum = sum + x[i]*w[i]\n"
      ],
      "metadata": {
        "id": "AURyoxeq3zVN"
      },
      "execution_count": null,
      "outputs": []
    },
    {
      "cell_type": "markdown",
      "source": [
        "26-02-2023\n",
        "\n",
        "Bult-in stuffs\n"
      ],
      "metadata": {
        "id": "0YMvbswIWJhb"
      }
    },
    {
      "cell_type": "code",
      "source": [
        "from sklearn import datasets\n",
        "X, y = datasets.make_blobs(n_samples=50,n_features=2,\n",
        "                           centers=2,cluster_std=1.5,\n",
        "                           random_state=2)\n",
        "#Plotting\n",
        "fig = plt.figure(figsize=(8,6))\n",
        "plt.plot(X[:, 0][y == 0], X[:, 1][y == 0], 'r^')\n",
        "plt.plot(X[:, 0][y == 1], X[:, 1][y == 1], 'bs')\n",
        "plt.xlabel(\"feature 1\")\n",
        "plt.ylabel(\"feature 2\")\n",
        "plt.title('Random Classification Data with 2 classes')"
      ],
      "metadata": {
        "colab": {
          "base_uri": "https://localhost:8080/",
          "height": 421
        },
        "id": "0QbUJQApWG5P",
        "outputId": "2cd35782-51c0-4f89-a936-8136917bcabd"
      },
      "execution_count": null,
      "outputs": [
        {
          "output_type": "execute_result",
          "data": {
            "text/plain": [
              "Text(0.5, 1.0, 'Random Classification Data with 2 classes')"
            ]
          },
          "metadata": {},
          "execution_count": 11
        },
        {
          "output_type": "display_data",
          "data": {
            "text/plain": [
              "<Figure size 576x432 with 1 Axes>"
            ],
            "image/png": "[encoded data removed]"
          },
          "metadata": {
            "needs_background": "light"
          }
        }
      ]
    },
    {
      "cell_type": "code",
      "source": [
        "def step_func(z):\n",
        "        return 1.0 if (z > 0) else 0.0"
      ],
      "metadata": {
        "id": "8k050Vq1rKjs"
      },
      "execution_count": null,
      "outputs": []
    },
    {
      "cell_type": "code",
      "source": [
        "def perceptron(X, y, lr, epochs):\n",
        "\n",
        "    # X --> Inputs.\n",
        "    # y --> labels/target.\n",
        "    # lr --> learning rate.\n",
        "    # epochs --> Number of iterations.\n",
        "\n",
        "    # m-> number of training examples\n",
        "    # n-> number of features\n",
        "    m, n = X.shape\n",
        "\n",
        "\n",
        "    # Initializing parapeters(theta) to zeros.\n",
        "    # +1 in n+1 for the bias term.\n",
        "    theta = np.zeros((n+1,1))\n",
        "\n",
        "    # Empty list to store how many examples were\n",
        "    # misclassified at every iteration.\n",
        "    n_miss_list = []\n",
        "\n",
        "    # Training.\n",
        "    for epoch in range(epochs):\n",
        "\n",
        "        # variable to store #misclassified.\n",
        "        n_miss = 0\n",
        "\n",
        "        # looping for every example.\n",
        "        for idx, x_i in enumerate(X):\n",
        "\n",
        "            # Insering 1 for bias, X0 = 1.\n",
        "            x_i = np.insert(x_i, 0,1).reshape(-1,1)\n",
        "\n",
        "            # Calculating prediction/hypothesis.\n",
        "            y_hat = step_func(np.dot(x_i.T, theta))\n",
        "\n",
        "            # Updating if the example is misclassified.\n",
        "            if (np.squeeze(y_hat) - y[idx]) != 0:\n",
        "                theta += lr*((y[idx] - y_hat)*x_i)\n",
        "\n",
        "                # Incrementing by 1.\n",
        "                n_miss += 1\n",
        "\n",
        "        # Appending number of misclassified examples\n",
        "        # at every iteration.\n",
        "        n_miss_list.append(n_miss)\n",
        "\n",
        "    return theta, n_miss_list"
      ],
      "metadata": {
        "id": "crWnjukIrPbP"
      },
      "execution_count": null,
      "outputs": []
    },
    {
      "cell_type": "code",
      "source": [
        "def plot_decision_boundary(X, theta):\n",
        "\n",
        "    # X --> Inputs\n",
        "    # theta --> parameters\n",
        "\n",
        "    # The Line is y=mx+c\n",
        "    # So, Equate mx+c = theta0.X0 + theta1.X1 + theta2.X2\n",
        "    # Solving we find m and c\n",
        "    x1 = [min(X[:,0]), max(X[:,0])]\n",
        "    m = -theta[1]/theta[2]\n",
        "    c = -theta[0]/theta[2]\n",
        "    x2 = m*x1 + c\n",
        "\n",
        "    # Plotting\n",
        "    fig = plt.figure(figsize=(8,6))\n",
        "    plt.plot(X[:, 0][y==0], X[:, 1][y==0], \"r^\")\n",
        "    plt.plot(X[:, 0][y==1], X[:, 1][y==1], \"bs\")\n",
        "    plt.xlabel(\"feature 1\")\n",
        "    plt.ylabel(\"feature 2\")\n",
        "    plt.title(\"Perceptron Algorithm\")\n",
        "    plt.plot(x1, x2, 'y-')"
      ],
      "metadata": {
        "id": "hjKMelZkr9tz"
      },
      "execution_count": null,
      "outputs": []
    },
    {
      "cell_type": "code",
      "source": [
        "theta, miss_l = perceptron(X, y, 0.5, 100)\n",
        "plot_decision_boundary(X, theta)"
      ],
      "metadata": {
        "colab": {
          "base_uri": "https://localhost:8080/",
          "height": 404
        },
        "id": "X42_danTsBPm",
        "outputId": "571134a9-823d-4508-81bd-c90b2e44194f"
      },
      "execution_count": null,
      "outputs": [
        {
          "output_type": "display_data",
          "data": {
            "text/plain": [
              "<Figure size 576x432 with 1 Axes>"
            ],
            "image/png": "[encoded data removed]"
          },
          "metadata": {
            "needs_background": "light"
          }
        }
      ]
    },
    {
      "cell_type": "markdown",
      "source": [
        "#Manually try of the perceptron problems\n"
      ],
      "metadata": {
        "id": "_X-UothTwbYL"
      }
    },
    {
      "cell_type": "code",
      "source": [
        "# step 4 --- (i)\n",
        "#for class A = 1\n",
        "x = [1, 0.2, 0.6, 0.8, 0.7]\n",
        "w = [-5, 5, 5, 2, 3]\n",
        "threshold = 5\n",
        "ep=0\n",
        "# perform y(t)\n",
        "def summ(x, w):\n",
        "    for i in range(5):\n",
        "        sum = 0\n",
        "        sum = sum + x[i]*w[i]\n",
        "    return sum\n",
        "sum=summ(x,w)\n",
        "\n",
        "# weight update\n",
        "def checkA(w,x):\n",
        "    if(sum<threshold):\n",
        "        for i in range(5):\n",
        "            w[i] = w[i]+x[i]\n",
        "    return w\n",
        "\n",
        "for i in range(50):\n",
        "    if (sum<threshold):\n",
        "        ep = ep+1\n",
        "        checkA(w,x)\n",
        "        sum=summ(x,w)\n",
        "    else:\n",
        "        print(\"epoch: \", ep)\n",
        "        print(\"sum: \", sum)\n",
        "        break\n",
        ""
      ],
      "metadata": {
        "colab": {
          "base_uri": "https://localhost:8080/"
        },
        "id": "_7mIpxeIwaaf",
        "outputId": "918d7014-fe05-47c9-d7d4-8b3c863c433e"
      },
      "execution_count": null,
      "outputs": [
        {
          "output_type": "stream",
          "name": "stdout",
          "text": [
            "epoch:  7\n",
            "sum:  5.04\n"
          ]
        }
      ]
    },
    {
      "cell_type": "code",
      "source": [
        "# step 4(i)\n",
        "#for class B\n",
        "\n",
        "x = [1, 0.2, 0.6, 0.8, 0.7]\n",
        "w = [-5, 5, 5, 2, 3]\n",
        "threshold = 5\n",
        "ep = 0\n",
        "# perform y(t)\n",
        "def summ(x, w):\n",
        "    for i in range(5):\n",
        "        sum = 0\n",
        "        sum = sum + x[i]*w[i]\n",
        "    return sum\n",
        "sum=summ(x,w)\n",
        "\n",
        "# weight update\n",
        "def checkA(w,x):\n",
        "    if(sum>threshold):\n",
        "        for i in range(5):\n",
        "            w[i] = w[i]-x[i]\n",
        "    return w\n",
        "\n",
        "for i in range(50):\n",
        "    if (sum>threshold):\n",
        "        ep = ep+1\n",
        "        checkA(w,x)\n",
        "        sum=summ(x,w)\n",
        "    else:\n",
        "        print(\"epoch: \", ep)\n",
        "        print(\"sum: \", sum)\n",
        "        break\n",
        ""
      ],
      "metadata": {
        "colab": {
          "base_uri": "https://localhost:8080/"
        },
        "id": "GC64bn0y3SN8",
        "outputId": "f88be884-a44e-4c25-c942-c3d96407f394"
      },
      "execution_count": null,
      "outputs": [
        {
          "output_type": "stream",
          "name": "stdout",
          "text": [
            "epoch:  0\n",
            "sum:  2.0999999999999996\n"
          ]
        }
      ]
    },
    {
      "cell_type": "code",
      "source": [
        "# step 4 --- (ii)\n",
        "#for class A = 1\n",
        "x = [1, 0.2, 0.6, 0.8, 0.7]\n",
        "w = [-5, 5, 5, 2, 3]\n",
        "threshold = 5\n",
        "ep = 0\n",
        "eta = 0.1\n",
        "# perform y(t)\n",
        "def summ(x, w):\n",
        "    for i in range(5):\n",
        "        sum = 0\n",
        "        sum = sum + x[i]*w[i]\n",
        "    return sum\n",
        "sum=summ(x,w)\n",
        "# print(sum)\n",
        "# weight update\n",
        "def checkA(w,x):\n",
        "    if(sum<threshold):\n",
        "        for i in range(5):\n",
        "            w[i] = w[i]+(eta*x[i])\n",
        "    return w\n",
        "\n",
        "for i in range(100):\n",
        "    if (sum<threshold):\n",
        "        ep = ep +1\n",
        "        checkA(w,x)\n",
        "        sum=summ(x,w)\n",
        "    else:\n",
        "        print(\"epoch: \", ep)\n",
        "        print(\"sum: \", sum)\n",
        "        break\n"
      ],
      "metadata": {
        "colab": {
          "base_uri": "https://localhost:8080/"
        },
        "id": "IMRwfKub_fw-",
        "outputId": "6f0f9006-4cea-45f6-8ff9-9dc8277fe0f6"
      },
      "execution_count": null,
      "outputs": [
        {
          "output_type": "stream",
          "name": "stdout",
          "text": [
            "epoch:  60\n",
            "sum:  5.040000000000007\n"
          ]
        }
      ]
    },
    {
      "cell_type": "code",
      "source": [
        "# step 4(ii)\n",
        "#for class B\n",
        "\n",
        "x = [1, 0.2, 0.6, 0.8, 0.7]\n",
        "w = [-5, 5, 5, 2, 3]\n",
        "threshold = 5\n",
        "eta = 0.1\n",
        "ep = 0\n",
        "# perform y(t)\n",
        "def summ(x, w):\n",
        "    for i in range(5):\n",
        "        sum = 0\n",
        "        sum = sum + x[i]*w[i]\n",
        "    return sum\n",
        "sum=summ(x,w)\n",
        "\n",
        "# weight update\n",
        "def checkA(w,x):\n",
        "    if(sum>threshold):\n",
        "        for i in range(5):\n",
        "            w[i] = w[i]-(eta*x[i])\n",
        "    return w\n",
        "\n",
        "for i in range(100):\n",
        "    if (sum>threshold):\n",
        "        ep = ep +1\n",
        "        checkA(w,x)\n",
        "        sum=summ(x,w)\n",
        "\n",
        "    else:\n",
        "        print(\"epoch: \", ep)\n",
        "        print(\"sum: \", sum)\n",
        "        break"
      ],
      "metadata": {
        "colab": {
          "base_uri": "https://localhost:8080/"
        },
        "id": "oMCYg8tWAReN",
        "outputId": "f217ee8d-bbd1-4d9c-ddcf-faba72620583"
      },
      "execution_count": null,
      "outputs": [
        {
          "output_type": "stream",
          "name": "stdout",
          "text": [
            "epoch:  0\n",
            "sum:  2.0999999999999996\n"
          ]
        }
      ]
    },
    {
      "cell_type": "code",
      "source": [
        "# step 4 --- (iii)\n",
        "\n",
        "x = [1, 0.2, 0.6, 0.8, 0.7]\n",
        "w = [-5, 5, 5, 2, 3]\n",
        "threshold = 5\n",
        "eta = 0.1\n",
        "ep = 0\n",
        "a=[]\n",
        "b=[]\n",
        "# perform y(t)\n",
        "def summ(x, w):\n",
        "    for i in range(5):\n",
        "        sum = 0\n",
        "        sum = sum + x[i]*w[i]\n",
        "        delta = threshold - sum\n",
        "    return sum\n",
        "sum=summ(x,w)\n",
        "delta = threshold - sum\n",
        "# print(delta)\n",
        "# weight update\n",
        "def checkA(w,x):\n",
        "    if(delta>0.5):\n",
        "        for i in range(5):\n",
        "            w[i] = w[i]+(delta*eta*x[i])\n",
        "    return w\n",
        "\n",
        "for i in range(100):\n",
        "    if (delta>0.5):\n",
        "        ep = ep +1\n",
        "        checkA(w,x)\n",
        "        sum=summ(x,w)\n",
        "        delta = threshold-sum\n",
        "        a.append(delta)\n",
        "        b.append(ep)\n",
        "        # print(delta)\n",
        "    else:\n",
        "        print(\"epoch: \", ep)\n",
        "\n",
        "        print(\"sum: \", sum)\n",
        "        break\n",
        "\n",
        "plt.figure(figsize=(8,6))\n",
        "plt.plot(a, b)\n",
        "plt.xlabel(\"delta\")\n",
        "plt.ylabel(\"epoch\")\n",
        "plt.show()"
      ],
      "metadata": {
        "colab": {
          "base_uri": "https://localhost:8080/",
          "height": 423
        },
        "id": "WX-_9OAoCFk1",
        "outputId": "aeb39902-8308-4f71-9a05-4c405c9a9e48"
      },
      "execution_count": null,
      "outputs": [
        {
          "output_type": "stream",
          "name": "stdout",
          "text": [
            "epoch:  35\n",
            "sum:  4.500292243427367\n"
          ]
        },
        {
          "output_type": "display_data",
          "data": {
            "text/plain": [
              "<Figure size 576x432 with 1 Axes>"
            ],
            "image/png": "[encoded data removed]"
          },
          "metadata": {
            "needs_background": "light"
          }
        }
      ]
    },
    {
      "cell_type": "markdown",
      "source": [
        "# AND Problem with Perceptron\n"
      ],
      "metadata": {
        "id": "_EvSVyp9Lqt3"
      }
    },
    {
      "cell_type": "code",
      "source": [
        "x1 = [1, 1, 0, 0]\n",
        "x2 = [1, 0, 1, 0]\n",
        "t = [1, 0, 0, 0]\n",
        "w1 = w2 = 0\n",
        "n=0.1\n",
        "\n",
        "# 1\n",
        "y = x1[0]*w1 + x2[0]*w2\n",
        "d = t-y\n",
        "\n",
        "\n"
      ],
      "metadata": {
        "id": "kWgbQz3tLp7N"
      },
      "execution_count": null,
      "outputs": []
    }
  ]
}